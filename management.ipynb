{
 "cells": [
  {
   "cell_type": "markdown",
   "source": [
    "# Elasticsearch & Warden\n",
    "Test for searching data over multiple indices "
   ],
   "metadata": {
    "collapsed": false
   }
  },
  {
   "cell_type": "code",
   "execution_count": 3,
   "outputs": [
    {
     "name": "stdout",
     "text": [
      "Testing connection...\nSuccess!\n"
     ],
     "output_type": "stream"
    }
   ],
   "source": [
    "from elasticsearch import Elasticsearch\n",
    "\n",
    "ES = Elasticsearch()\n",
    "\n",
    "print('Testing connection...')\n",
    "if ES.ping():\n",
    "    print('Success!')\n",
    "else:\n",
    "    print('No connection...')"
   ],
   "metadata": {
    "collapsed": false,
    "pycharm": {
     "name": "#%%\n",
     "is_executing": false
    }
   }
  },
  {
   "cell_type": "code",
   "execution_count": 8,
   "outputs": [
    {
     "data": {
      "text/plain": "{'persistent': {},\n 'transient': {},\n 'defaults': {'cluster': {'max_voting_config_exclusions': '10',\n   'auto_shrink_voting_configuration': 'true',\n   'election': {'duration': '500ms',\n    'initial_timeout': '100ms',\n    'max_timeout': '10s',\n    'back_off_time': '100ms',\n    'strategy': 'supports_voting_only'},\n   'no_master_block': 'write',\n   'persistent_tasks': {'allocation': {'enable': 'all',\n     'recheck_interval': '30s'}},\n   'blocks': {'read_only_allow_delete': 'false', 'read_only': 'false'},\n   'remote': {'node': {'attr': ''},\n    'initial_connect_timeout': '30s',\n    'connect': 'true',\n    'connections_per_cluster': '3'},\n   'follower_lag': {'timeout': '90000ms'},\n   'routing': {'use_adaptive_replica_selection': 'true',\n    'rebalance': {'enable': 'all'},\n    'allocation': {'node_concurrent_incoming_recoveries': '2',\n     'node_initial_primaries_recoveries': '4',\n     'same_shard': {'host': 'false'},\n     'total_shards_per_node': '-1',\n     'shard_state': {'reroute': {'priority': 'NORMAL'}},\n     'type': 'balanced',\n     'disk': {'threshold_enabled': 'true',\n      'watermark': {'low': '85%', 'flood_stage': '95%', 'high': '90%'},\n      'include_relocations': 'true',\n      'reroute_interval': '60s'},\n     'awareness': {'attributes': []},\n     'balance': {'index': '0.55', 'threshold': '1.0', 'shard': '0.45'},\n     'enable': 'all',\n     'node_concurrent_outgoing_recoveries': '2',\n     'allow_rebalance': 'indices_all_active',\n     'cluster_concurrent_rebalance': '2',\n     'node_concurrent_recoveries': '2'}},\n   'indices': {'tombstones': {'size': '500'}, 'close': {'enable': 'true'}},\n   'nodes': {'reconnect_interval': '10s'},\n   'service': {'slow_master_task_logging_threshold': '10s',\n    'slow_task_logging_threshold': '30s'},\n   'publish': {'timeout': '30000ms', 'info_timeout': '10000ms'},\n   'name': 'elasticsearch',\n   'fault_detection': {'leader_check': {'interval': '1000ms',\n     'timeout': '10000ms',\n     'retry_count': '3'},\n    'follower_check': {'interval': '1000ms',\n     'timeout': '10000ms',\n     'retry_count': '3'}},\n   'join': {'timeout': '60000ms'},\n   'max_shards_per_node': '1000',\n   'initial_master_nodes': [],\n   'info': {'update': {'interval': '30s', 'timeout': '15s'}}},\n  'no': {'model': {'state': {'persist': 'false'}}},\n  'logger': {'level': 'INFO'},\n  'bootstrap': {'memory_lock': 'false',\n   'system_call_filter': 'true',\n   'ctrlhandler': 'true'},\n  'processors': '4',\n  'ingest': {'user_agent': {'cache_size': '1000'},\n   'geoip': {'cache_size': '1000'},\n   'grok': {'watchdog': {'max_execution_time': '1s', 'interval': '1s'}}},\n  'network': {'host': [],\n   'tcp': {'reuse_address': 'false',\n    'keep_count': '-1',\n    'connect_timeout': '30s',\n    'keep_interval': '-1',\n    'no_delay': 'true',\n    'keep_alive': 'true',\n    'receive_buffer_size': '-1b',\n    'keep_idle': '-1',\n    'send_buffer_size': '-1b'},\n   'bind_host': [],\n   'server': 'true',\n   'breaker': {'inflight_requests': {'limit': '100%', 'overhead': '2.0'}},\n   'publish_host': []},\n  'pidfile': '',\n  'path': {'data': [],\n   'logs': 'C:\\\\Users\\\\forti\\\\github\\\\elasticsearch\\\\logs',\n   'shared_data': '',\n   'home': 'C:\\\\Users\\\\forti\\\\github\\\\elasticsearch',\n   'repo': []},\n  'search': {'default_search_timeout': '-1',\n   'highlight': {'term_vector_multi_value': 'true'},\n   'default_allow_partial_results': 'true',\n   'max_open_scroll_context': '500',\n   'max_buckets': '10000',\n   'low_level_cancellation': 'true',\n   'keep_alive_interval': '1m',\n   'remote': {'node': {'attr': ''},\n    'initial_connect_timeout': '30s',\n    'connect': 'true',\n    'connections_per_cluster': '3'},\n   'default_keep_alive': '5m',\n   'max_keep_alive': '24h'},\n  'security': {'manager': {'filter_bad_defaults': 'true'}},\n  'transform': {'task_thread_pool': {'queue_size': '4', 'size': '4'}},\n  'ccr': {'wait_for_metadata_timeout': '60s',\n   'indices': {'recovery': {'recovery_activity_timeout': '60s',\n     'chunk_size': '1mb',\n     'internal_action_timeout': '60s',\n     'max_bytes_per_sec': '40mb',\n     'max_concurrent_file_chunks': '5'}},\n   'auto_follow': {'wait_for_metadata_timeout': '60s'}},\n  'repositories': {'fs': {'compress': 'false',\n    'chunk_size': '9223372036854775807b',\n    'location': ''},\n   'url': {'supported_protocols': ['http', 'https', 'ftp', 'file', 'jar'],\n    'allowed_urls': [],\n    'url': 'http:'}},\n  'action': {'auto_create_index': 'true',\n   'search': {'shard_count': {'limit': '9223372036854775807'}},\n   'destructive_requires_name': 'false'},\n  'client': {'type': 'node',\n   'transport': {'ignore_cluster_name': 'false',\n    'nodes_sampler_interval': '5s',\n    'sniff': 'false',\n    'ping_timeout': '5s'}},\n  'enrich': {'max_force_merge_attempts': '3',\n   'cleanup_period': '15m',\n   'fetch_size': '10000',\n   'coordinator_proxy': {'max_concurrent_requests': '8',\n    'max_lookups_per_request': '128',\n    'queue_capacity': '1024'},\n   'max_concurrent_policy_executions': '50'},\n  'xpack': {'flattened': {'enabled': 'true'},\n   'watcher': {'execution': {'scroll': {'size': '0', 'timeout': ''},\n     'default_throttle_period': '5s'},\n    'internal': {'ops': {'bulk': {'default_timeout': ''},\n      'index': {'default_timeout': ''},\n      'search': {'default_timeout': ''}}},\n    'thread_pool': {'queue_size': '1000', 'size': '20'},\n    'index': {'rest': {'direct_access': ''}},\n    'history': {'cleaner_service': {'enabled': 'true'}},\n    'trigger': {'schedule': {'ticker': {'tick_interval': '500ms'}}},\n    'enabled': 'true',\n    'input': {'search': {'default_timeout': ''}},\n    'encrypt_sensitive_data': 'false',\n    'transform': {'search': {'default_timeout': ''}},\n    'stop': {'timeout': '30s'},\n    'watch': {'scroll': {'size': '0'}},\n    'bulk': {'concurrent_requests': '0',\n     'flush_interval': '1s',\n     'size': '1mb',\n     'actions': '1'},\n    'actions': {'bulk': {'default_timeout': ''},\n     'index': {'default_timeout': ''}}},\n   'data_frame': {'enabled': 'true'},\n   'ilm': {'enabled': 'true'},\n   'monitoring': {'collection': {'cluster': {'stats': {'timeout': '10s'}},\n     'node': {'stats': {'timeout': '10s'}},\n     'indices': [],\n     'ccr': {'stats': {'timeout': '10s'}},\n     'enrich': {'stats': {'timeout': '10s'}},\n     'index': {'stats': {'timeout': '10s'},\n      'recovery': {'active_only': 'false', 'timeout': '10s'}},\n     'interval': '10s',\n     'enabled': 'false',\n     'ml': {'job': {'stats': {'timeout': '10s'}}}},\n    'history': {'duration': '168h'},\n    'elasticsearch': {'collection': {'enabled': 'true'}},\n    'enabled': 'true'},\n   'graph': {'enabled': 'true'},\n   'rollup': {'enabled': 'true',\n    'task_thread_pool': {'queue_size': '4', 'size': '4'}},\n   'sql': {'enabled': 'true'},\n   'license': {'upload': {'types': ['standard',\n      'gold',\n      'platinum',\n      'enterprise',\n      'trial']},\n    'self_generated': {'type': 'basic'}},\n   'logstash': {'enabled': 'true'},\n   'notification': {'pagerduty': {'default_account': ''},\n    'email': {'default_account': '',\n     'html': {'sanitization': {'allow': ['body',\n        'head',\n        '_tables',\n        '_links',\n        '_blocks',\n        '_formatting',\n        'img:embedded'],\n       'disallow': [],\n       'enabled': 'true'}}},\n    'reporting': {'retries': '40',\n     'warning': {'enabled': 'true'},\n     'interval': '15s'},\n    'jira': {'default_account': ''},\n    'slack': {'default_account': ''}},\n   'security': {'dls_fls': {'enabled': 'true'},\n    'dls': {'bitset': {'cache': {'size': '10%', 'ttl': '2h'}}},\n    'transport': {'filter': {'allow': [], 'deny': [], 'enabled': 'true'},\n     'ssl': {'enabled': 'false'}},\n    'ssl': {'diagnose': {'trust': 'true'}},\n    'enabled': 'true',\n    'filter': {'always_allow_bound_address': 'true'},\n    'encryption': {'algorithm': 'AES/CTR/NoPadding'},\n    'audit': {'enabled': 'false',\n     'logfile': {'emit_node_id': 'true',\n      'emit_node_host_name': 'false',\n      'emit_node_name': 'false',\n      'events': {'emit_request_body': 'false',\n       'include': ['ACCESS_DENIED',\n        'ACCESS_GRANTED',\n        'ANONYMOUS_ACCESS_DENIED',\n        'AUTHENTICATION_FAILED',\n        'CONNECTION_DENIED',\n        'TAMPERED_REQUEST',\n        'RUN_AS_DENIED',\n        'RUN_AS_GRANTED'],\n       'exclude': []},\n      'emit_node_host_address': 'false'}},\n    'authc': {'password_hashing': {'algorithm': 'bcrypt'},\n     'success_cache': {'size': '10000',\n      'enabled': 'true',\n      'expire_after_access': '1h'},\n     'api_key': {'cache': {'hash_algo': 'ssha256',\n       'max_keys': '10000',\n       'ttl': '24h'},\n      'delete': {'interval': '24h', 'timeout': '-1'},\n      'enabled': 'false',\n      'hashing': {'algorithm': 'pbkdf2'}},\n     'anonymous': {'authz_exception': 'true',\n      'roles': [],\n      'username': '_anonymous'},\n     'run_as': {'enabled': 'true'},\n     'reserved_realm': {'enabled': 'true'},\n     'token': {'delete': {'interval': '30m', 'timeout': '-1'},\n      'enabled': 'false',\n      'thread_pool': {'queue_size': '1000', 'size': '1'},\n      'timeout': '20m'}},\n    'fips_mode': {'enabled': 'false'},\n    'encryption_key': {'length': '128', 'algorithm': 'AES'},\n    'http': {'filter': {'allow': [], 'deny': [], 'enabled': 'true'},\n     'ssl': {'enabled': 'false'}},\n    'automata': {'max_determinized_states': '100000',\n     'cache': {'size': '10000', 'ttl': '48h', 'enabled': 'true'}},\n    'user': None,\n    'authz': {'store': {'roles': {'index': {'cache': {'ttl': '20m',\n         'max_size': '10000'}},\n       'cache': {'max_size': '10000'},\n       'negative_lookup_cache': {'max_size': '10000'},\n       'field_permissions': {'cache': {'max_size_in_bytes': '104857600'}}}}}},\n   'transform': {'num_transform_failure_retries': '10', 'enabled': 'true'},\n   'vectors': {'enabled': 'true'},\n   'ccr': {'enabled': 'true',\n    'ccr_thread_pool': {'queue_size': '100', 'size': '32'}},\n   'slm': {'enabled': 'true'},\n   'enrich': {'enabled': 'true'},\n   'http': {'default_connection_timeout': '10s',\n    'proxy': {'host': '', 'scheme': '', 'port': '0'},\n    'whitelist': ['*'],\n    'default_read_timeout': '10s',\n    'max_response_size': '10mb'},\n   'ml': {'utility_thread_pool': {'core': '1',\n     'max': '2048',\n     'keep_alive': '10m'},\n    'max_anomaly_records': '500',\n    'enable_config_migration': 'true',\n    'max_open_jobs': '20',\n    'min_disk_space_off_heap': '5gb',\n    'inference_model': {'cache_size': '40%', 'time_to_live': '5m'},\n    'node_concurrent_job_allocations': '2',\n    'max_model_memory_limit': '0b',\n    'enabled': 'true',\n    'max_lazy_ml_nodes': '0',\n    'max_machine_memory_percent': '30',\n    'persist_results_max_retries': '20',\n    'autodetect_process': 'true',\n    'datafeed_thread_pool': {'core': '1', 'max': '512', 'keep_alive': '1m'},\n    'max_inference_processors': '50',\n    'process_connect_timeout': '10s',\n    'job_comms_thread_pool': {'core': '4',\n     'max': '2048',\n     'keep_alive': '1m'}}},\n  'rest': {'action': {'multi': {'allow_explicit_index': 'true'}}},\n  'cache': {'recycler': {'page': {'limit': {'heap': '10%'},\n     'type': 'CONCURRENT',\n     'weight': {'longs': '1.0',\n      'ints': '1.0',\n      'bytes': '1.0',\n      'objects': '0.1'}}}},\n  'reindex': {'remote': {'whitelist': []}},\n  'resource': {'reload': {'enabled': 'true',\n    'interval': {'low': '60s', 'high': '5s', 'medium': '30s'}}},\n  'thread_pool': {'force_merge': {'queue_size': '-1', 'size': '1'},\n   'fetch_shard_started': {'core': '1', 'max': '8', 'keep_alive': '5m'},\n   'listener': {'queue_size': '-1', 'size': '2'},\n   'refresh': {'core': '1', 'max': '2', 'keep_alive': '5m'},\n   'generic': {'core': '4', 'max': '128', 'keep_alive': '30s'},\n   'warmer': {'core': '1', 'max': '2', 'keep_alive': '5m'},\n   'search': {'max_queue_size': '1000',\n    'queue_size': '1000',\n    'size': '7',\n    'auto_queue_frame_size': '2000',\n    'target_response_time': '1s',\n    'min_queue_size': '1000'},\n   'fetch_shard_store': {'core': '1', 'max': '8', 'keep_alive': '5m'},\n   'flush': {'core': '1', 'max': '2', 'keep_alive': '5m'},\n   'management': {'core': '1', 'max': '5', 'keep_alive': '5m'},\n   'analyze': {'queue_size': '16', 'size': '1'},\n   'get': {'queue_size': '1000', 'size': '4'},\n   'estimated_time_interval': '200ms',\n   'write': {'queue_size': '200', 'size': '4'},\n   'snapshot': {'core': '1', 'max': '2', 'keep_alive': '5m'},\n   'search_throttled': {'max_queue_size': '100',\n    'queue_size': '100',\n    'size': '1',\n    'auto_queue_frame_size': '200',\n    'target_response_time': '1s',\n    'min_queue_size': '100'}},\n  'index': {'codec': 'default',\n   'store': {'type': '', 'fs': {'fs_lock': 'native'}, 'preload': []}},\n  'monitor': {'jvm': {'gc': {'enabled': 'true',\n     'overhead': {'warn': '50', 'debug': '10', 'info': '25'},\n     'refresh_interval': '1s'},\n    'refresh_interval': '1s'},\n   'process': {'refresh_interval': '1s'},\n   'os': {'refresh_interval': '1s'},\n   'fs': {'refresh_interval': '1s'}},\n  'transport': {'tcp': {'reuse_address': 'false',\n    'keep_count': '-1',\n    'connect_timeout': '30s',\n    'keep_interval': '-1',\n    'compress': 'false',\n    'port': '9300-9400',\n    'no_delay': 'true',\n    'keep_alive': 'true',\n    'receive_buffer_size': '-1b',\n    'keep_idle': '-1',\n    'send_buffer_size': '-1b'},\n   'bind_host': [],\n   'connect_timeout': '30s',\n   'compress': 'false',\n   'ping_schedule': '-1',\n   'connections_per_node': {'recovery': '2',\n    'state': '1',\n    'bulk': '3',\n    'reg': '6',\n    'ping': '1'},\n   'tracer': {'include': [],\n    'exclude': ['internal:discovery/zen/fd*',\n     'internal:coordination/fault_detection/*',\n     'cluster:monitor/nodes/liveness']},\n   'type': 'security4',\n   'type.default': 'netty4',\n   'features': {'x-pack': 'true'},\n   'port': '9300-9400',\n   'host': [],\n   'publish_port': '-1',\n   'tcp_no_delay': 'true',\n   'publish_host': [],\n   'netty': {'receive_predictor_size': '64kb',\n    'receive_predictor_max': '64kb',\n    'worker_count': '8',\n    'receive_predictor_min': '64kb',\n    'boss_count': '1'}},\n  'script': {'allowed_contexts': [],\n   'max_compilations_rate': '75/5m',\n   'cache': {'max_size': '100', 'expire': '0ms'},\n   'painless': {'regex': {'enabled': 'false'}},\n   'max_size_in_bytes': '65535',\n   'allowed_types': []},\n  'node': {'data': 'true',\n   'max_local_storage_nodes': '1',\n   'processors': '4',\n   'store': {'allow_mmap': 'true'},\n   'ingest': 'true',\n   'master': 'true',\n   'pidfile': '',\n   'enable_lucene_segment_infos_trace': 'false',\n   'local_storage': 'true',\n   'name': 'DESKTOP-CTS79BL',\n   'id': {'seed': '0'},\n   'voting_only': 'false',\n   'attr': {'xpack': {'installed': 'true'},\n    'ml': {'machine_memory': '12488896512', 'max_open_jobs': '20'}},\n   'portsfile': 'false',\n   'ml': 'true'},\n  'indices': {'cache': {'cleanup_interval': '1m'},\n   'mapping': {'dynamic_timeout': '30s'},\n   'memory': {'interval': '5s',\n    'max_index_buffer_size': '-1',\n    'shard_inactive_time': '5m',\n    'index_buffer_size': '10%',\n    'min_index_buffer_size': '48mb'},\n   'breaker': {'request': {'limit': '60%',\n     'type': 'memory',\n     'overhead': '1.0'},\n    'total': {'limit': '95%', 'use_real_memory': 'true'},\n    'accounting': {'limit': '100%', 'overhead': '1.0'},\n    'fielddata': {'limit': '40%', 'type': 'memory', 'overhead': '1.03'},\n    'type': 'hierarchy'},\n   'query': {'bool': {'max_clause_count': '1024'},\n    'query_string': {'analyze_wildcard': 'false',\n     'allowLeadingWildcard': 'true'}},\n   'id_field_data': {'enabled': 'true'},\n   'recovery': {'recovery_activity_timeout': '1800000ms',\n    'retry_delay_network': '5s',\n    'internal_action_timeout': '15m',\n    'retry_delay_state_sync': '500ms',\n    'internal_action_long_timeout': '1800000ms',\n    'max_bytes_per_sec': '40mb',\n    'max_concurrent_file_chunks': '2'},\n   'requests': {'cache': {'size': '1%', 'expire': '0ms'}},\n   'store': {'delete': {'shard': {'timeout': '30s'}}},\n   'analysis': {'hunspell': {'dictionary': {'ignore_case': 'false',\n      'lazy': 'false'}}},\n   'queries': {'cache': {'count': '10000',\n     'size': '10%',\n     'all_segments': 'false'}},\n   'lifecycle': {'history_index_enabled': 'true', 'poll_interval': '10m'},\n   'fielddata': {'cache': {'size': '-1b'}}},\n  'plugin': {'mandatory': []},\n  'slm': {'history_index_enabled': 'true',\n   'retention_schedule': '0 30 1 * * ?',\n   'retention_duration': '1h'},\n  'discovery': {'seed_hosts': [],\n   'unconfigured_bootstrap_timeout': '3s',\n   'request_peers_timeout': '3000ms',\n   'zen': {'commit_timeout': '30s',\n    'no_master_block': 'write',\n    'join_retry_delay': '100ms',\n    'join_retry_attempts': '3',\n    'ping': {'unicast': {'concurrent_connects': '10',\n      'hosts': [],\n      'hosts.resolve_timeout': '5s'}},\n    'master_election': {'ignore_non_master_pings': 'false',\n     'wait_for_joins_timeout': '30000ms'},\n    'send_leave_request': 'true',\n    'ping_timeout': '3s',\n    'bwc_ping_timeout': '3s',\n    'join_timeout': '60000ms',\n    'publish_diff': {'enable': 'true'},\n    'publish': {'max_pending_cluster_states': '25'},\n    'minimum_master_nodes': '-1',\n    'unsafe_rolling_upgrades_enabled': 'true',\n    'hosts_provider': [],\n    'publish_timeout': '30s',\n    'fd': {'connect_on_network_disconnect': 'false',\n     'ping_interval': '1s',\n     'ping_retries': '3',\n     'register_connection_listener': 'true',\n     'ping_timeout': '30s'},\n    'max_pings_from_another_master': '3'},\n   'initial_state_timeout': '30s',\n   'cluster_formation_warning_timeout': '10000ms',\n   'seed_providers': [],\n   'type': 'zen',\n   'seed_resolver': {'max_concurrent_resolvers': '10', 'timeout': '5s'},\n   'find_peers_interval': '1000ms'},\n  'http': {'tcp': {'reuse_address': 'false',\n    'keep_count': '-1',\n    'keep_interval': '-1',\n    'no_delay': 'true',\n    'keep_alive': 'true',\n    'receive_buffer_size': '-1b',\n    'keep_idle': '-1',\n    'send_buffer_size': '-1b'},\n   'bind_host': [],\n   'cors': {'max-age': '1728000',\n    'allow-origin': '',\n    'allow-headers': 'X-Requested-With,Content-Type,Content-Length',\n    'allow-credentials': 'false',\n    'allow-methods': 'OPTIONS,HEAD,GET,POST,PUT,DELETE',\n    'enabled': 'false'},\n   'max_chunk_size': '8kb',\n   'compression_level': '3',\n   'reset_cookies': 'false',\n   'max_initial_line_length': '4kb',\n   'max_warning_header_count': '-1',\n   'type': 'security4',\n   'pipelining': {'max_events': '10000'},\n   'max_warning_header_size': '-1b',\n   'type.default': 'netty4',\n   'detailed_errors': {'enabled': 'true'},\n   'content_type': {'required': 'true'},\n   'port': '9200-9300',\n   'host': [],\n   'publish_port': '-1',\n   'max_header_size': '8kb',\n   'tcp_no_delay': 'true',\n   'compression': 'true',\n   'read_timeout': '0ms',\n   'publish_host': [],\n   'max_content_length': '100mb',\n   'netty': {'receive_predictor_size': '64kb',\n    'max_composite_buffer_components': '69905',\n    'worker_count': '8'}},\n  'gateway': {'recover_after_master_nodes': '0',\n   'expected_nodes': '-1',\n   'recover_after_data_nodes': '-1',\n   'expected_data_nodes': '-1',\n   'write_dangling_indices_info': 'true',\n   'slow_write_logging_threshold': '10s',\n   'recover_after_time': '0ms',\n   'expected_master_nodes': '-1',\n   'recover_after_nodes': '-1',\n   'auto_import_dangling_indices': 'true'}}}"
     },
     "metadata": {},
     "output_type": "execute_result",
     "execution_count": 8
    }
   ],
   "source": [
    "ES.cluster.get_settings(include_defaults=True)\n"
   ],
   "metadata": {
    "collapsed": false,
    "pycharm": {
     "name": "#%%\n",
     "is_executing": false
    }
   }
  },
  {
   "cell_type": "code",
   "execution_count": 141,
   "outputs": [],
   "source": [
    "from mapping import mappings\n",
    "settings = {\"number_of_shards\": 1,\n",
    "            \"max_inner_result_window\": 10000}\n"
   ],
   "metadata": {
    "collapsed": false,
    "pycharm": {
     "name": "#%%\n",
     "is_executing": false
    }
   }
  },
  {
   "cell_type": "markdown",
   "source": [
    "## Using rollover api to create new indices\n",
    "Lets create a new index and add a rollover to it so that a new one will be created when meeting certain conditions\n",
    "https://www.elastic.co/guide/en/elasticsearch/reference/master/indices-rollover-index.html"
   ],
   "metadata": {
    "collapsed": false
   }
  },
  {
   "cell_type": "code",
   "execution_count": 142,
   "outputs": [
    {
     "data": {
      "text/plain": "{'my_rollover_index-000001': {'aliases': {'my_rollover_alias': {}}}}"
     },
     "metadata": {},
     "output_type": "execute_result",
     "execution_count": 142
    }
   ],
   "source": [
    "ES.indices.delete(index='_all')\n",
    "rollover_index = 'my_rollover_index-000001'\n",
    "rollover_alias = 'my_rollover_alias'\n",
    "request_body = {'mappings': mappings, 'settings': settings}\n",
    "ES.indices.create(index=rollover_index, body=request_body)\n",
    "\n",
    "ES.indices.put_alias(name=rollover_alias, index=rollover_index)\n",
    "ES.indices.get_alias(name=rollover_alias)"
   ],
   "metadata": {
    "collapsed": false,
    "pycharm": {
     "name": "#%%\n",
     "is_executing": false
    }
   }
  },
  {
   "cell_type": "markdown",
   "source": [
    "Let's index document to see what it does"
   ],
   "metadata": {
    "collapsed": false
   }
  },
  {
   "cell_type": "code",
   "execution_count": 288,
   "outputs": [
    {
     "name": "stdout",
     "text": [
      "{'_index': 'my_rollover_index-000007', '_type': '_doc', '_id': 'iPB0enEBjn1hTc4IDHKx', '_version': 1, 'result': 'created', '_shards': {'total': 2, 'successful': 1, 'failed': 0}, '_seq_no': 0, '_primary_term': 1}\n"
     ],
     "output_type": "stream"
    },
    {
     "data": {
      "text/plain": "{'took': 0,\n 'timed_out': False,\n '_shards': {'total': 1, 'successful': 1, 'skipped': 0, 'failed': 0},\n 'hits': {'total': {'value': 0, 'relation': 'eq'},\n  'max_score': None,\n  'hits': []}}"
     },
     "metadata": {},
     "output_type": "execute_result",
     "execution_count": 288
    }
   ],
   "source": [
    "from state import State\n",
    "import time\n",
    "\n",
    "new_state = State()\n",
    "print(ES.index(index=rollover_alias, body=new_state.json()))\n",
    "time.sleep(0.5)\n",
    "ES.search(body={'size': 0}, index=rollover_alias)"
   ],
   "metadata": {
    "collapsed": false,
    "pycharm": {
     "name": "#%%\n",
     "is_executing": false
    }
   }
  },
  {
   "cell_type": "markdown",
   "source": [
    "Since the rollover is an api, we have to call it to execute the rollover if the conditions are met.\n",
    "The next section will "
   ],
   "metadata": {
    "collapsed": false,
    "pycharm": {
     "name": "#%% md\n"
    }
   }
  },
  {
   "cell_type": "code",
   "execution_count": 144,
   "outputs": [
    {
     "data": {
      "text/plain": "{'my_rollover_index-000002': {'aliases': {'my_rollover_alias': {}}}}"
     },
     "metadata": {},
     "output_type": "execute_result",
     "execution_count": 144
    }
   ],
   "source": [
    "request_body = {'conditions': {'max_docs': 1}}\n",
    "ES.indices.rollover(alias=rollover_alias, body=request_body)\n",
    "ES.indices.get_alias(name=rollover_alias)\n"
   ],
   "metadata": {
    "collapsed": false,
    "pycharm": {
     "name": "#%%\n",
     "is_executing": false
    }
   }
  },
  {
   "cell_type": "markdown",
   "source": [
    "## Automating rollover\n",
    "For automatic rollover, we need to add policies to our index \n",
    "which will execute automatically the rollover when conditons are met\n",
    "https://www.elastic.co/guide/en/elasticsearch/reference/master/index-lifecycle-management.html"
   ],
   "metadata": {
    "collapsed": false
   }
  },
  {
   "cell_type": "code",
   "execution_count": 208,
   "outputs": [
    {
     "data": {
      "text/plain": "{'acknowledged': True}"
     },
     "metadata": {},
     "output_type": "execute_result",
     "execution_count": 208
    }
   ],
   "source": [
    "ES.indices.delete(index='_all')\n",
    "ES.cluster.put_settings(body={\n",
    "    \"transient\" : {\n",
    "        \"indices.lifecycle.poll_interval\" : \"1s\"\n",
    "    }\n",
    "})\n",
    "rollover_index_root = 'my_rollover_index'\n",
    "rollover_index = f'{rollover_index_root}-000001'\n",
    "rollover_alias = 'my_rollover_alias'\n",
    "rollover_policy = 'my_rollover_policy'\n",
    "rollover_template = 'my_rollover_template'\n",
    "\n",
    "ES.ilm.put_lifecycle(policy=rollover_policy, body={\n",
    "    'policy': {\n",
    "        'phases': {\n",
    "            'hot': {\n",
    "                'actions': {\n",
    "                    'rollover': {\n",
    "                        'max_docs': 5\n",
    "                    }\n",
    "                }\n",
    "            }\n",
    "        }\n",
    "    }\n",
    "})"
   ],
   "metadata": {
    "collapsed": false,
    "pycharm": {
     "name": "#%% \n",
     "is_executing": false
    }
   }
  },
  {
   "cell_type": "markdown",
   "source": [
    "Lets add a template for our indices.\n",
    "This template will automatically be applied for each index matching the root name.\n",
    "That way, subsequent created indices will also inherit the policy\n",
    "and will be subject to a potential rollover if conditions are met"
   ],
   "metadata": {
    "collapsed": false,
    "pycharm": {
     "name": "#%% md\n"
    }
   }
  },
  {
   "cell_type": "code",
   "execution_count": 210,
   "outputs": [
    {
     "data": {
      "text/plain": "{'acknowledged': True}"
     },
     "metadata": {},
     "output_type": "execute_result",
     "execution_count": 210
    }
   ],
   "source": [
    "template_settings = {\n",
    "    \"number_of_shards\": 1,\n",
    "    'number_of_replicas': 1,\n",
    "    'index.lifecycle.name': rollover_policy,\n",
    "    'index.lifecycle.rollover_alias': rollover_alias,\n",
    "    \"max_inner_result_window\": 10000\n",
    "}\n",
    "\n",
    "ES.indices.put_template(name=rollover_template, body={\n",
    "    'index_patterns': [f'{rollover_index_root}-*'],\n",
    "    'settings': template_settings\n",
    "})"
   ],
   "metadata": {
    "collapsed": false,
    "pycharm": {
     "name": "#%%\n",
     "is_executing": false
    }
   }
  },
  {
   "cell_type": "markdown",
   "source": [
    "Lets create an index and link an alias to it. We can either set the alias to 'is_write_index=true', in which case\n",
    "new indices will be added to the alias and the "
   ],
   "metadata": {
    "collapsed": false,
    "pycharm": {
     "name": "#%% md\n"
    }
   }
  },
  {
   "cell_type": "code",
   "execution_count": 211,
   "outputs": [
    {
     "data": {
      "text/plain": "{'acknowledged': True}"
     },
     "metadata": {},
     "output_type": "execute_result",
     "execution_count": 211
    }
   ],
   "source": [
    "ES.indices.create(index=rollover_index)\n",
    "ES.indices.put_alias(name=rollover_alias, index=rollover_index)\n",
    "# ES.indices.update_aliases({\n",
    "#     'actions': [\n",
    "#         {'add': {'index': rollover_index, 'alias': rollover_alias, 'is_write_index':True}}\n",
    "#     ]\n",
    "# })"
   ],
   "metadata": {
    "collapsed": false,
    "pycharm": {
     "name": "#%%\n",
     "is_executing": false
    }
   }
  },
  {
   "cell_type": "markdown",
   "source": [
    "Let's index document to see what it does"
   ],
   "metadata": {
    "collapsed": false
   }
  },
  {
   "cell_type": "code",
   "execution_count": 263,
   "outputs": [
    {
     "data": {
      "text/plain": "{'_index': 'my_rollover_index-000004',\n '_type': '_doc',\n '_id': 'WPBgenEBjn1hTc4I8XJl',\n '_version': 1,\n 'result': 'created',\n '_shards': {'total': 2, 'successful': 1, 'failed': 0},\n '_seq_no': 0,\n '_primary_term': 1}"
     },
     "metadata": {},
     "output_type": "execute_result",
     "execution_count": 263
    }
   ],
   "source": [
    "from state import State\n",
    "new_state = State()\n",
    "ES.index(index=rollover_alias, body=new_state.json())"
   ],
   "metadata": {
    "collapsed": false,
    "pycharm": {
     "name": "#%%\n",
     "is_executing": false
    }
   }
  },
  {
   "cell_type": "code",
   "execution_count": 264,
   "outputs": [
    {
     "data": {
      "text/plain": "{'took': 6,\n 'timed_out': False,\n '_shards': {'total': 1, 'successful': 1, 'skipped': 0, 'failed': 0},\n 'hits': {'total': {'value': 1, 'relation': 'eq'},\n  'max_score': None,\n  'hits': []}}"
     },
     "metadata": {},
     "output_type": "execute_result",
     "execution_count": 264
    }
   ],
   "source": [
    "ES.search(body={'size': 0}, index=rollover_alias)"
   ],
   "metadata": {
    "collapsed": false,
    "pycharm": {
     "name": "#%%\n",
     "is_executing": false
    }
   }
  },
  {
   "cell_type": "code",
   "execution_count": 265,
   "outputs": [
    {
     "data": {
      "text/plain": "{'took': 8,\n 'timed_out': False,\n '_shards': {'total': 1, 'successful': 1, 'skipped': 0, 'failed': 0},\n 'hits': {'total': {'value': 5, 'relation': 'eq'},\n  'max_score': None,\n  'hits': []}}"
     },
     "metadata": {},
     "output_type": "execute_result",
     "execution_count": 265
    }
   ],
   "source": [
    "ES.search(body={'size': 0}, index=rollover_index)"
   ],
   "metadata": {
    "collapsed": false,
    "pycharm": {
     "name": "#%%\n",
     "is_executing": false
    }
   }
  },
  {
   "cell_type": "code",
   "execution_count": 266,
   "outputs": [
    {
     "data": {
      "text/plain": "{'my_rollover_index-000004': {'aliases': {'my_rollover_alias': {}}}}"
     },
     "metadata": {},
     "output_type": "execute_result",
     "execution_count": 266
    }
   ],
   "source": [
    "ES.indices.get_alias(name=rollover_alias)"
   ],
   "metadata": {
    "collapsed": false,
    "pycharm": {
     "name": "#%%\n",
     "is_executing": false
    }
   }
  },
  {
   "cell_type": "code",
   "execution_count": 213,
   "outputs": [
    {
     "data": {
      "text/plain": "{'indices': {'my_rollover_index-000001': {'index': 'my_rollover_index-000001',\n   'managed': True,\n   'policy': 'my_rollover_policy',\n   'lifecycle_date_millis': 1586895840875,\n   'age': '11.63s',\n   'phase': 'hot',\n   'phase_time_millis': 1586895841636,\n   'action': 'rollover',\n   'action_time_millis': 1586895846321,\n   'step': 'check-rollover-ready',\n   'step_time_millis': 1586895846321,\n   'phase_execution': {'policy': 'my_rollover_policy',\n    'phase_definition': {'min_age': '0ms',\n     'actions': {'rollover': {'max_docs': 5}}},\n    'version': 11,\n    'modified_date_in_millis': 1586895819914}}}}"
     },
     "metadata": {},
     "output_type": "execute_result",
     "execution_count": 213
    }
   ],
   "source": [
    "ES.ilm.explain_lifecycle(index=rollover_alias)\n"
   ],
   "metadata": {
    "collapsed": false,
    "pycharm": {
     "name": "#%%\n",
     "is_executing": false
    }
   }
  }
 ],
 "metadata": {
  "kernelspec": {
   "display_name": "Python 3",
   "language": "python",
   "name": "python3"
  },
  "language_info": {
   "codemirror_mode": {
    "name": "ipython",
    "version": 2
   },
   "file_extension": ".py",
   "mimetype": "text/x-python",
   "name": "python",
   "nbconvert_exporter": "python",
   "pygments_lexer": "ipython2",
   "version": "2.7.6"
  },
  "pycharm": {
   "stem_cell": {
    "cell_type": "raw",
    "source": [],
    "metadata": {
     "collapsed": false
    }
   }
  }
 },
 "nbformat": 4,
 "nbformat_minor": 0
}