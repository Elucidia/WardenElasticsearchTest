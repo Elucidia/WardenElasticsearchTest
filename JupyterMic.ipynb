{
 "cells": [
  {
   "cell_type": "code",
   "execution_count": 5,
   "metadata": {
    "collapsed": true,
    "pycharm": {
     "is_executing": false
    }
   },
   "outputs": [],
   "source": [
    "from elasticsearch import Elasticsearch"
   ]
  },
  {
   "cell_type": "code",
   "execution_count": 119,
   "outputs": [
    {
     "data": {
      "text/plain": "True"
     },
     "metadata": {},
     "output_type": "execute_result",
     "execution_count": 119
    }
   ],
   "source": [
    "es = Elasticsearch()\n",
    "es.ping()"
   ],
   "metadata": {
    "collapsed": false,
    "pycharm": {
     "name": "#%%\n",
     "is_executing": false
    }
   }
  },
  {
   "cell_type": "code",
   "execution_count": 124,
   "outputs": [
    {
     "traceback": [
      "\u001b[1;31m---------------------------------------------------------------------------\u001b[0m",
      "\u001b[1;31mRequestError\u001b[0m                              Traceback (most recent call last)",
      "\u001b[1;32m<ipython-input-124-69a1439b2770>\u001b[0m in \u001b[0;36m<module>\u001b[1;34m\u001b[0m\n\u001b[0;32m      1\u001b[0m \u001b[0mINDEX\u001b[0m\u001b[1;33m=\u001b[0m\u001b[1;34m'grettings'\u001b[0m\u001b[1;33m\u001b[0m\u001b[1;33m\u001b[0m\u001b[0m\n\u001b[1;32m----> 2\u001b[1;33m \u001b[0mes\u001b[0m\u001b[1;33m.\u001b[0m\u001b[0mindices\u001b[0m\u001b[1;33m.\u001b[0m\u001b[0mcreate\u001b[0m\u001b[1;33m(\u001b[0m\u001b[1;34m'grettings'\u001b[0m\u001b[1;33m)\u001b[0m\u001b[1;33m\u001b[0m\u001b[1;33m\u001b[0m\u001b[0m\n\u001b[0m\u001b[0;32m      3\u001b[0m \u001b[1;33m\u001b[0m\u001b[0m\n",
      "\u001b[1;32mc:\\users\\forti\\github\\elasticsearchtest\\venv\\lib\\site-packages\\elasticsearch\\client\\utils.py\u001b[0m in \u001b[0;36m_wrapped\u001b[1;34m(*args, **kwargs)\u001b[0m\n\u001b[0;32m     90\u001b[0m                 \u001b[1;32mif\u001b[0m \u001b[0mp\u001b[0m \u001b[1;32min\u001b[0m \u001b[0mkwargs\u001b[0m\u001b[1;33m:\u001b[0m\u001b[1;33m\u001b[0m\u001b[1;33m\u001b[0m\u001b[0m\n\u001b[0;32m     91\u001b[0m                     \u001b[0mparams\u001b[0m\u001b[1;33m[\u001b[0m\u001b[0mp\u001b[0m\u001b[1;33m]\u001b[0m \u001b[1;33m=\u001b[0m \u001b[0mkwargs\u001b[0m\u001b[1;33m.\u001b[0m\u001b[0mpop\u001b[0m\u001b[1;33m(\u001b[0m\u001b[0mp\u001b[0m\u001b[1;33m)\u001b[0m\u001b[1;33m\u001b[0m\u001b[1;33m\u001b[0m\u001b[0m\n\u001b[1;32m---> 92\u001b[1;33m             \u001b[1;32mreturn\u001b[0m \u001b[0mfunc\u001b[0m\u001b[1;33m(\u001b[0m\u001b[1;33m*\u001b[0m\u001b[0margs\u001b[0m\u001b[1;33m,\u001b[0m \u001b[0mparams\u001b[0m\u001b[1;33m=\u001b[0m\u001b[0mparams\u001b[0m\u001b[1;33m,\u001b[0m \u001b[0mheaders\u001b[0m\u001b[1;33m=\u001b[0m\u001b[0mheaders\u001b[0m\u001b[1;33m,\u001b[0m \u001b[1;33m**\u001b[0m\u001b[0mkwargs\u001b[0m\u001b[1;33m)\u001b[0m\u001b[1;33m\u001b[0m\u001b[1;33m\u001b[0m\u001b[0m\n\u001b[0m\u001b[0;32m     93\u001b[0m \u001b[1;33m\u001b[0m\u001b[0m\n\u001b[0;32m     94\u001b[0m         \u001b[1;32mreturn\u001b[0m \u001b[0m_wrapped\u001b[0m\u001b[1;33m\u001b[0m\u001b[1;33m\u001b[0m\u001b[0m\n",
      "\u001b[1;32mc:\\users\\forti\\github\\elasticsearchtest\\venv\\lib\\site-packages\\elasticsearch\\client\\indices.py\u001b[0m in \u001b[0;36mcreate\u001b[1;34m(self, index, body, params, headers)\u001b[0m\n\u001b[0;32m    102\u001b[0m \u001b[1;33m\u001b[0m\u001b[0m\n\u001b[0;32m    103\u001b[0m         return self.transport.perform_request(\n\u001b[1;32m--> 104\u001b[1;33m             \u001b[1;34m\"PUT\"\u001b[0m\u001b[1;33m,\u001b[0m \u001b[0m_make_path\u001b[0m\u001b[1;33m(\u001b[0m\u001b[0mindex\u001b[0m\u001b[1;33m)\u001b[0m\u001b[1;33m,\u001b[0m \u001b[0mparams\u001b[0m\u001b[1;33m=\u001b[0m\u001b[0mparams\u001b[0m\u001b[1;33m,\u001b[0m \u001b[0mheaders\u001b[0m\u001b[1;33m=\u001b[0m\u001b[0mheaders\u001b[0m\u001b[1;33m,\u001b[0m \u001b[0mbody\u001b[0m\u001b[1;33m=\u001b[0m\u001b[0mbody\u001b[0m\u001b[1;33m\u001b[0m\u001b[1;33m\u001b[0m\u001b[0m\n\u001b[0m\u001b[0;32m    105\u001b[0m         )\n\u001b[0;32m    106\u001b[0m \u001b[1;33m\u001b[0m\u001b[0m\n",
      "\u001b[1;32mc:\\users\\forti\\github\\elasticsearchtest\\venv\\lib\\site-packages\\elasticsearch\\transport.py\u001b[0m in \u001b[0;36mperform_request\u001b[1;34m(self, method, url, headers, params, body)\u001b[0m\n\u001b[0;32m    360\u001b[0m                     \u001b[0mheaders\u001b[0m\u001b[1;33m=\u001b[0m\u001b[0mheaders\u001b[0m\u001b[1;33m,\u001b[0m\u001b[1;33m\u001b[0m\u001b[1;33m\u001b[0m\u001b[0m\n\u001b[0;32m    361\u001b[0m                     \u001b[0mignore\u001b[0m\u001b[1;33m=\u001b[0m\u001b[0mignore\u001b[0m\u001b[1;33m,\u001b[0m\u001b[1;33m\u001b[0m\u001b[1;33m\u001b[0m\u001b[0m\n\u001b[1;32m--> 362\u001b[1;33m                     \u001b[0mtimeout\u001b[0m\u001b[1;33m=\u001b[0m\u001b[0mtimeout\u001b[0m\u001b[1;33m,\u001b[0m\u001b[1;33m\u001b[0m\u001b[1;33m\u001b[0m\u001b[0m\n\u001b[0m\u001b[0;32m    363\u001b[0m                 )\n\u001b[0;32m    364\u001b[0m \u001b[1;33m\u001b[0m\u001b[0m\n",
      "\u001b[1;32mc:\\users\\forti\\github\\elasticsearchtest\\venv\\lib\\site-packages\\elasticsearch\\connection\\http_urllib3.py\u001b[0m in \u001b[0;36mperform_request\u001b[1;34m(self, method, url, params, body, timeout, ignore, headers)\u001b[0m\n\u001b[0;32m    246\u001b[0m                 \u001b[0mmethod\u001b[0m\u001b[1;33m,\u001b[0m \u001b[0mfull_url\u001b[0m\u001b[1;33m,\u001b[0m \u001b[0murl\u001b[0m\u001b[1;33m,\u001b[0m \u001b[0morig_body\u001b[0m\u001b[1;33m,\u001b[0m \u001b[0mduration\u001b[0m\u001b[1;33m,\u001b[0m \u001b[0mresponse\u001b[0m\u001b[1;33m.\u001b[0m\u001b[0mstatus\u001b[0m\u001b[1;33m,\u001b[0m \u001b[0mraw_data\u001b[0m\u001b[1;33m\u001b[0m\u001b[1;33m\u001b[0m\u001b[0m\n\u001b[0;32m    247\u001b[0m             )\n\u001b[1;32m--> 248\u001b[1;33m             \u001b[0mself\u001b[0m\u001b[1;33m.\u001b[0m\u001b[0m_raise_error\u001b[0m\u001b[1;33m(\u001b[0m\u001b[0mresponse\u001b[0m\u001b[1;33m.\u001b[0m\u001b[0mstatus\u001b[0m\u001b[1;33m,\u001b[0m \u001b[0mraw_data\u001b[0m\u001b[1;33m)\u001b[0m\u001b[1;33m\u001b[0m\u001b[1;33m\u001b[0m\u001b[0m\n\u001b[0m\u001b[0;32m    249\u001b[0m \u001b[1;33m\u001b[0m\u001b[0m\n\u001b[0;32m    250\u001b[0m         self.log_request_success(\n",
      "\u001b[1;32mc:\\users\\forti\\github\\elasticsearchtest\\venv\\lib\\site-packages\\elasticsearch\\connection\\base.py\u001b[0m in \u001b[0;36m_raise_error\u001b[1;34m(self, status_code, raw_data)\u001b[0m\n\u001b[0;32m    242\u001b[0m \u001b[1;33m\u001b[0m\u001b[0m\n\u001b[0;32m    243\u001b[0m         raise HTTP_EXCEPTIONS.get(status_code, TransportError)(\n\u001b[1;32m--> 244\u001b[1;33m             \u001b[0mstatus_code\u001b[0m\u001b[1;33m,\u001b[0m \u001b[0merror_message\u001b[0m\u001b[1;33m,\u001b[0m \u001b[0madditional_info\u001b[0m\u001b[1;33m\u001b[0m\u001b[1;33m\u001b[0m\u001b[0m\n\u001b[0m\u001b[0;32m    245\u001b[0m         )\n\u001b[0;32m    246\u001b[0m \u001b[1;33m\u001b[0m\u001b[0m\n",
      "\u001b[1;31mRequestError\u001b[0m: RequestError(400, 'resource_already_exists_exception', 'index [grettings/IZ_rp9dHRpyvj4t0fAfC4g] already exists')"
     ],
     "ename": "RequestError",
     "evalue": "RequestError(400, 'resource_already_exists_exception', 'index [grettings/IZ_rp9dHRpyvj4t0fAfC4g] already exists')",
     "output_type": "error"
    }
   ],
   "source": [
    "INDEX='grettings'\n",
    "es.indices.create('grettings')"
   ],
   "metadata": {
    "collapsed": false,
    "pycharm": {
     "name": "#%%\n",
     "is_executing": false
    }
   }
  },
  {
   "cell_type": "code",
   "execution_count": 126,
   "outputs": [
    {
     "data": {
      "text/plain": "{'_index': 'grettings',\n '_type': '_doc',\n '_id': 'hFohS3EBxeF4ao1RVuok',\n '_version': 1,\n 'result': 'created',\n '_shards': {'total': 2, 'successful': 1, 'failed': 0},\n '_seq_no': 2,\n '_primary_term': 1}"
     },
     "metadata": {},
     "output_type": "execute_result",
     "execution_count": 126
    }
   ],
   "source": [
    "import uuid\n",
    "\n",
    "es.index(index=INDEX, body=\n",
    "    {\n",
    "        'id': uuid.uuid4(),\n",
    "        'name': 'michael',\n",
    "        'message': 'you not gay'\n",
    "    }\n",
    ")\n",
    "\n",
    "es.index(index=INDEX, body=\n",
    "    {\n",
    "        'id': uuid.uuid4(),\n",
    "        'name': 'nicolas',\n",
    "        'message': 'you gay'\n",
    "    }\n",
    ")"
   ],
   "metadata": {
    "collapsed": false,
    "pycharm": {
     "name": "#%%\n",
     "is_executing": false
    }
   }
  },
  {
   "cell_type": "code",
   "execution_count": 123,
   "outputs": [
    {
     "name": "stdout",
     "text": [
      "{'path': 'sdfg', 'mime_type': 'application/zip', 'hash': UUID('9f714646-420a-4f11-9f14-28fc559f9fd8'), 'score': 0.8725320194718855, 'encrypted': False, 'content': {'names': 82.10548540930185, 'sensitivityScore': 0.8468691089013751, 'pii': [{'name': 'phone', 'guid': UUID('d8bdbfcf-aaa4-4dd0-b7ef-6d5e1c32784f'), 'quantity': 32.146449441284695, 'correlation': [{'name': 'email', 'guid': UUID('b05dca9c-10a0-49b3-b275-165785c06c7b'), 'correlation': 0.9830454195791265}, {'name': 'frenchNas', 'guid': UUID('5e81e7c2-9c8c-415c-b1ee-f73bd30f8c29'), 'correlation': 0.03336502002179742}, {'name': 'americanNas', 'guid': UUID('f6ebd418-60d8-4820-b520-88242395c41c'), 'correlation': 0.8446538421148552}, {'name': 'phone', 'guid': UUID('d8bdbfcf-aaa4-4dd0-b7ef-6d5e1c32784f'), 'correlation': 0.04333175839051162}, {'name': 'driveLicence', 'guid': UUID('2cba4387-e2e5-42f8-932e-b3a87259a066'), 'correlation': 0.26925135060921956}, {'name': 'britishNas', 'guid': UUID('6dd7af30-fdde-48f0-bc92-a9035154c0fe'), 'correlation': 0.915748978880418}, {'name': 'nas', 'guid': UUID('7af10021-db36-4235-943e-b8b8befe67a7'), 'correlation': 0.3287914477456383}, {'name': 'germanNas', 'guid': UUID('05724b04-cc5d-47f6-8a09-5904c8f0833d'), 'correlation': 0.8782126689851176}]}, {'name': 'americanNas', 'guid': UUID('f6ebd418-60d8-4820-b520-88242395c41c'), 'quantity': 65.06242679529433, 'correlation': [{'name': 'nas', 'guid': UUID('7af10021-db36-4235-943e-b8b8befe67a7'), 'correlation': 0.6371236318053125}, {'name': 'britishNas', 'guid': UUID('6dd7af30-fdde-48f0-bc92-a9035154c0fe'), 'correlation': 0.8683234575570686}, {'name': 'frenchNas', 'guid': UUID('5e81e7c2-9c8c-415c-b1ee-f73bd30f8c29'), 'correlation': 0.7930527499482943}, {'name': 'email', 'guid': UUID('b05dca9c-10a0-49b3-b275-165785c06c7b'), 'correlation': 0.5923740020435553}, {'name': 'americanNas', 'guid': UUID('f6ebd418-60d8-4820-b520-88242395c41c'), 'correlation': 0.35711306134772247}, {'name': 'australianNas', 'guid': UUID('4d996b96-93e0-477e-97c1-35d5e3f490ae'), 'correlation': 0.30616195735806895}]}, {'name': 'creditCard', 'guid': UUID('7231196a-9ba4-4ebf-9f6e-f71279f04b5b'), 'quantity': 27.03158820721322, 'correlation': [{'name': 'driveLicence', 'guid': UUID('2cba4387-e2e5-42f8-932e-b3a87259a066'), 'correlation': 0.5851116427015746}, {'name': 'frenchNas', 'guid': UUID('5e81e7c2-9c8c-415c-b1ee-f73bd30f8c29'), 'correlation': 0.15366106816862202}, {'name': 'americanNas', 'guid': UUID('f6ebd418-60d8-4820-b520-88242395c41c'), 'correlation': 0.32696459890967744}, {'name': 'email', 'guid': UUID('b05dca9c-10a0-49b3-b275-165785c06c7b'), 'correlation': 0.1760952886859537}, {'name': 'nas', 'guid': UUID('7af10021-db36-4235-943e-b8b8befe67a7'), 'correlation': 0.33731420866109607}, {'name': 'britishNas', 'guid': UUID('6dd7af30-fdde-48f0-bc92-a9035154c0fe'), 'correlation': 0.6267549604624356}, {'name': 'phone', 'guid': UUID('d8bdbfcf-aaa4-4dd0-b7ef-6d5e1c32784f'), 'correlation': 0.2772161997772221}, {'name': 'australianNas', 'guid': UUID('4d996b96-93e0-477e-97c1-35d5e3f490ae'), 'correlation': 0.4302183771460133}]}]}}\n"
     ],
     "output_type": "stream"
    }
   ],
   "source": [
    "es.search(index=INDEX, body=\n",
    "    {\n",
    "        q\n",
    "    }\n",
    ")\n"
   ],
   "metadata": {
    "collapsed": false,
    "pycharm": {
     "name": "#%%\n",
     "is_executing": false
    }
   }
  }
 ],
 "metadata": {
  "kernelspec": {
   "display_name": "Python 3",
   "language": "python",
   "name": "python3"
  },
  "language_info": {
   "codemirror_mode": {
    "name": "ipython",
    "version": 2
   },
   "file_extension": ".py",
   "mimetype": "text/x-python",
   "name": "python",
   "nbconvert_exporter": "python",
   "pygments_lexer": "ipython2",
   "version": "2.7.6"
  },
  "pycharm": {
   "stem_cell": {
    "cell_type": "raw",
    "source": [],
    "metadata": {
     "collapsed": false
    }
   }
  }
 },
 "nbformat": 4,
 "nbformat_minor": 0
}