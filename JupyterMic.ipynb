{
 "cells": [
  {
   "cell_type": "markdown",
   "source": [
    "# Elasticsearch & Warden\n",
    "Test for searching data over multiple indices \n"
   ],
   "metadata": {
    "collapsed": false,
    "pycharm": {
     "name": "#%% md\n"
    }
   }
  },
  {
   "cell_type": "markdown",
   "metadata": {
    "collapsed": true,
    "pycharm": {
     "is_executing": false,
     "name": "#%% md\n"
    }
   },
   "source": [
    "\n",
    "Lets connect to our elasticsearch and test the connection.  \n",
    "Run this cell before using the notebook.\n"
   ]
  },
  {
   "cell_type": "code",
   "execution_count": 3,
   "outputs": [
    {
     "name": "stdout",
     "text": [
      "Testing connection...\n",
      "Success!\n"
     ],
     "output_type": "stream"
    }
   ],
   "source": [
    "from elasticsearch import Elasticsearch\n",
    "\n",
    "ES = Elasticsearch()\n",
    "\n",
    "print('Testing connection...')\n",
    "if ES.ping():\n",
    "    print('Success!')\n",
    "else:\n",
    "    print('No connection...')\n"
   ],
   "metadata": {
    "collapsed": false,
    "pycharm": {
     "name": "#%%\n",
     "is_executing": false
    }
   }
  },
  {
   "cell_type": "markdown",
   "source": [
    "## Creating an index\n",
    "Let's start by defining a mapping.  \n",
    "Mappings: https://www.elastic.co/guide/en/elasticsearch/reference/master/mapping.html#create-mapping  \n",
    "Data types: https://www.elastic.co/guide/en/elasticsearch/reference/master/mapping-types.html  \n",
    "  \n",
    "If you wish to modify the mapping, you can use the put_mapping cell below. No need to create a new index."
   ],
   "metadata": {
    "collapsed": false
   }
  },
  {
   "cell_type": "code",
   "execution_count": 4,
   "outputs": [],
   "source": [
    "from mapping import mappings"
   ],
   "metadata": {
    "collapsed": false,
    "pycharm": {
     "name": "#%%\n",
     "is_executing": false
    }
   }
  },
  {
   "cell_type": "markdown",
   "source": [
    "Next, we define the settings of our index. The amount of resources we're going to allow a single index.  \n",
    "For now, we will allow a single shard by index. This setting cannot be changed. If we ever need to expand capacities, we can clone existing indices.  \n",
    "New indices can be created with different capacities.  \n",
    "Settings: https://www.elastic.co/guide/en/elasticsearch/reference/master/index-modules.html#index-modules-settings"
   ],
   "metadata": {
    "collapsed": false
   }
  },
  {
   "cell_type": "code",
   "execution_count": 5,
   "outputs": [],
   "source": [
    "settings = {\"number_of_shards\": 1,\n",
    "            \"max_inner_result_window\": 10000}"
   ],
   "metadata": {
    "collapsed": false,
    "pycharm": {
     "name": "#%%\n",
     "is_executing": false
    }
   }
  },
  {
   "cell_type": "markdown",
   "source": [
    "We now have all we need to create an index. We'll add the name of the org and the time of creation in the index name.\n",
    "We'll create three different indices for three different time periods\n",
    "Creating an index: https://www.elastic.co/guide/en/elasticsearch/reference/master/indices-create-index.html "
   ],
   "metadata": {
    "collapsed": false
   }
  },
  {
   "cell_type": "code",
   "execution_count": 6,
   "outputs": [
    {
     "name": "stdout",
     "text": [
      "Attempting to create indices\n",
      "Response:  {'acknowledged': True, 'shards_acknowledged': True, 'index': 'mondata-mic-1586145600000'}\nAttempting to create indices\n",
      "Response:  {'acknowledged': True, 'shards_acknowledged': True, 'index': 'mondata-mic-1587009600000'}\nAttempting to create indices\n",
      "Response:  {'acknowledged': True, 'shards_acknowledged': True, 'index': 'mondata-mic-1587787200000'}\n"
     ],
     "output_type": "stream"
    }
   ],
   "source": [
    "import datetime\n",
    "\n",
    "ES.indices.delete(index='_all')\n",
    "\n",
    "date1 = int(datetime.datetime(2020,4,6).timestamp())*1000\n",
    "date2 = int(datetime.datetime(2020,4,16).timestamp())*1000\n",
    "date3 = int(datetime.datetime(2020,4,25).timestamp())*1000\n",
    "\n",
    "org_id = 'mondata-mic'\n",
    "index_name1 = f'{org_id}-{date1}'\n",
    "index_name2 = f'{org_id}-{date2}'\n",
    "index_name3 = f'{org_id}-{date3}'\n",
    "index_names = [index_name1, index_name2, index_name3]\n",
    "request_body = {'mappings': mappings, 'settings': settings}\n",
    "\n",
    "\n",
    "for index_name in index_names:\n",
    "    print(f'Attempting to create indices')\n",
    "    response = ES.indices.create(index=index_name, body=request_body)\n",
    "    print('Response: ', response)"
   ],
   "metadata": {
    "collapsed": false,
    "pycharm": {
     "name": "#%%\n",
     "is_executing": false
    }
   }
  },
  {
   "cell_type": "markdown",
   "source": [
    "## Searching trough different indices by date\n",
    "\n",
    "Let's get all my organisation indices"
   ],
   "metadata": {
    "collapsed": false,
    "pycharm": {
     "name": "#%% md\n"
    }
   }
  },
  {
   "cell_type": "code",
   "execution_count": 7,
   "outputs": [
    {
     "name": "stdout",
     "text": [
      "All organisation indices\nmondata-mic-1586145600000\nmondata-mic-1587009600000\nmondata-mic-1587787200000\n"
     ],
     "output_type": "stream"
    }
   ],
   "source": [
    "indices = ES.indices.get(index=f'{org_id}-*')\n",
    "print('All organisation indices')\n",
    "for index_name in indices:\n",
    "    print(index_name)"
   ],
   "metadata": {
    "collapsed": false,
    "pycharm": {
     "name": "#%%\n",
     "is_executing": false
    }
   }
  },
  {
   "cell_type": "markdown",
   "source": [
    "Current Indices creation date:\n",
    "\n",
    "2020/04/06\n",
    "\n",
    "2020/04/16\n",
    "\n",
    "2020/04/25\n",
    "\n",
    "We can filter indices to search between two date..."
   ],
   "metadata": {
    "collapsed": false
   }
  },
  {
   "cell_type": "code",
   "execution_count": 8,
   "outputs": [
    {
     "name": "stdout",
     "text": [
      "index name: mondata-mic-1586145600000, creation date: 2020-04-06 00:00:00\n"
     ],
     "output_type": "stream"
    }
   ],
   "source": [
    "from date_indices import get_index_date, filter_indices\n",
    "\n",
    "date_from = int(datetime.datetime(2020,4,7).timestamp())*1000\n",
    "date_to = int(datetime.datetime(2020,4,15).timestamp())*1000\n",
    "new_indices = filter_indices(indices, date_from=date_from, date_to=date_to)\n",
    "for index in new_indices:\n",
    "    print(f'index name: {index}, creation date: {datetime.datetime.fromtimestamp(get_index_date(index)/1000)}')\n"
   ],
   "metadata": {
    "collapsed": false,
    "pycharm": {
     "name": "#%%\n",
     "is_executing": false
    }
   }
  },
  {
   "cell_type": "markdown",
   "source": [
    "before a date..."
   ],
   "metadata": {
    "collapsed": false,
    "pycharm": {
     "name": "#%% md\n"
    }
   }
  },
  {
   "cell_type": "code",
   "execution_count": 9,
   "outputs": [
    {
     "name": "stdout",
     "text": [
      "index name: mondata-mic-1586145600000, creation date: 2020-04-06 00:00:00\nindex name: mondata-mic-1587009600000, creation date: 2020-04-16 00:00:00\n"
     ],
     "output_type": "stream"
    }
   ],
   "source": [
    "date_to = int(datetime.datetime(2020,4,17).timestamp())*1000\n",
    "new_indices = filter_indices(indices, date_to=date_to)\n",
    "for index in new_indices:\n",
    "    print(f'index name: {index}, creation date: {datetime.datetime.fromtimestamp(get_index_date(index)/1000)}')"
   ],
   "metadata": {
    "collapsed": false,
    "pycharm": {
     "name": "#%%\n",
     "is_executing": false
    }
   }
  },
  {
   "cell_type": "markdown",
   "source": [
    "or after a date..."
   ],
   "metadata": {
    "collapsed": false
   }
  },
  {
   "cell_type": "code",
   "execution_count": 10,
   "outputs": [
    {
     "name": "stdout",
     "text": [
      "index name: mondata-mic-1587787200000, creation date: 2020-04-25 00:00:00\nindex name: mondata-mic-1587009600000, creation date: 2020-04-16 00:00:00\n"
     ],
     "output_type": "stream"
    }
   ],
   "source": [
    "date_from = int(datetime.datetime(2020,4,17).timestamp())*1000\n",
    "new_indices = filter_indices(indices, date_from=date_from)\n",
    "for index in new_indices:\n",
    "    print(f'index name: {index}, creation date: {datetime.datetime.fromtimestamp(get_index_date(index)/1000)}')\n",
    "    "
   ],
   "metadata": {
    "collapsed": false,
    "pycharm": {
     "name": "#%%\n",
     "is_executing": false
    }
   }
  },
  {
   "cell_type": "markdown",
   "source": [
    "Being able to filter indices by date, we can also query their content\n",
    "Let's start by adding some content to our indices"
   ],
   "metadata": {
    "collapsed": false
   }
  },
  {
   "cell_type": "code",
   "execution_count": 11,
   "outputs": [],
   "source": [
    "import random\n",
    "from state import State\n",
    "\n",
    "# In the first index\n",
    "for _ in range(10):\n",
    "    timestamp = int(date1 + random.random()*(date2 - date1))\n",
    "    state = State(timestamp=timestamp)\n",
    "    ES.index(index=index_name1, body=state.json())\n",
    "\n",
    "# In the second index\n",
    "for _ in range(10):\n",
    "    timestamp = int(date2 + random.random()*(date3 - date2))\n",
    "    state = State(timestamp=timestamp)\n",
    "    ES.index(index=index_name2, body=state.json())\n",
    "    \n",
    "# In the third index\n",
    "for _ in range(10):\n",
    "    timestamp = int(date3 + random.random()*(date3 - date2))\n",
    "    state = State(timestamp=timestamp)\n",
    "    ES.index(index=index_name3, body=state.json())\n",
    "\n"
   ],
   "metadata": {
    "collapsed": false,
    "pycharm": {
     "name": "#%%\n",
     "is_executing": false
    }
   }
  },
  {
   "cell_type": "markdown",
   "source": [
    "Our data should be in our index. We can query for the whole index content.\n"
   ],
   "metadata": {
    "collapsed": false
   }
  },
  {
   "cell_type": "code",
   "execution_count": 12,
   "outputs": [],
   "source": [
    "import json\n",
    "\n",
    "data = ES.search(index=index_name1, body={\"query\": {\"match_all\": {}}, \"size\": 10000})\n",
    "f = open(\"query_all_result.txt\", \"w\")\n",
    "f.write(json.dumps(data, sort_keys=True, indent=4, separators=[',', ':']))\n",
    "f.close()"
   ],
   "metadata": {
    "collapsed": false,
    "pycharm": {
     "name": "#%%\n",
     "is_executing": false
    }
   }
  },
  {
   "cell_type": "markdown",
   "source": [
    "Let's query the number of sensitive files per user over the period 2020/04/07 to 2020/04/17\n",
    "\n",
    "To do this, we must first determine the right indices according to date"
   ],
   "metadata": {
    "collapsed": false,
    "pycharm": {
     "name": "#%% md\n"
    }
   }
  },
  {
   "cell_type": "code",
   "execution_count": 13,
   "outputs": [],
   "source": [
    "from state import EndpointEnum\n",
    "\n",
    "endpoint = EndpointEnum[0]['name']\n",
    "indices = ES.indices.get(index=f'{org_id}-*')\n",
    "date_from = int(datetime.datetime(2020,4,7).timestamp())*1000\n",
    "date_to = int(datetime.datetime(2020,4,15).timestamp())*1000\n",
    "search_indices = filter_indices(indices, date_from=date_from, date_to=date_to)\n",
    "\n",
    "query = {\n",
    "    'query': {\n",
    "        'match_all': {}\n",
    "    },\n",
    "    'aggregations': {\n",
    "        'users' : {\n",
    "            'terms': {'field': 'endpoint_id'},\n",
    "            'aggregations': {\n",
    "                'pii_files':{\n",
    "                    'nested': {\n",
    "                        'path': 'pii_files'\n",
    "                    },\n",
    "                    'aggregations':{\n",
    "                        'pii_files_number': {\n",
    "                            'terms' : {\n",
    "                                'field': 'pii_files.timestamp'\n",
    "                            }\n",
    "                        }\n",
    "                    }\n",
    "                }\n",
    "            }\n",
    "        }\n",
    "    },\n",
    "    'size': 0\n",
    "}\n",
    "\n",
    "res = ES.search(index=search_indices, body=query)\n",
    "f = open(\"aggs_files_timeseries.txt\", \"w\")\n",
    "f.write(json.dumps(res, sort_keys=True, indent=4, separators=[',', ':']))\n",
    "f.close()"
   ],
   "metadata": {
    "collapsed": false,
    "pycharm": {
     "name": "#%%\n",
     "is_executing": false
    }
   }
  },
  {
   "cell_type": "code",
   "execution_count": 14,
   "outputs": [],
   "source": [
    "query = {\n",
    "    'query': {\n",
    "        'bool': {\n",
    "            'filter': [\n",
    "                { \"term\":  { \"endpoint_id\": endpoint }},\n",
    "            ]\n",
    "        }\n",
    "    },\n",
    "    'aggregations': {\n",
    "        'pii_files':{\n",
    "            'nested': {\n",
    "                'path': 'pii_files'\n",
    "            },\n",
    "            'aggregations':{\n",
    "                'latest': {\n",
    "                    'terms' : {\n",
    "                        'field': 'pii_files.timestamp',\n",
    "                        'order': {'_key': 'desc'},\n",
    "                        'size': 1,\n",
    "                    },\n",
    "                    \"aggregations\": {\n",
    "                        \"latest_state\": {\n",
    "                            \"top_hits\": {\n",
    "                                \"from\": 0,\n",
    "                                \"size\": 10000\n",
    "                            }\n",
    "                        }\n",
    "                    }\n",
    "                }\n",
    "            }\n",
    "        }\n",
    "    },\n",
    "    'size': 0\n",
    "}\n",
    "\n",
    "res = ES.search(index=search_indices, body=query)\n",
    "f = open(\"latest_state.txt\", \"w\")\n",
    "f.write(json.dumps(res, sort_keys=True, indent=4, separators=[',', ':']))\n",
    "f.close()"
   ],
   "metadata": {
    "collapsed": false,
    "pycharm": {
     "name": "#%%\n",
     "is_executing": false
    }
   }
  },
  {
   "cell_type": "markdown",
   "source": [
    "## Using aliases to point out to different indices\n",
    "Let's create an alias which link to all indices in my organisation\n",
    "https://www.elastic.co/guide/en/elasticsearch/reference/current/indices-aliases.html"
   ],
   "metadata": {
    "collapsed": false,
    "pycharm": {
     "name": "#%% md\n"
    }
   }
  },
  {
   "cell_type": "code",
   "execution_count": 16,
   "outputs": [
    {
     "data": {
      "text/plain": "{'acknowledged': True}"
     },
     "metadata": {},
     "output_type": "execute_result",
     "execution_count": 16
    }
   ],
   "source": [
    "org_alias = 'myOrgAlias'\n",
    "if ES.indices.exists_alias(name=org_alias):\n",
    "    ES.indices.delete_alias(index='*', name=org_alias)\n",
    "ES.indices.update_aliases({\n",
    "    'actions': [\n",
    "        {'add': {'indices': index_names, 'alias': org_alias}},\n",
    "        {'add': {'index': index_name3, 'alias': org_alias, 'is_write_index':True}}\n",
    "    ]\n",
    "})"
   ],
   "metadata": {
    "collapsed": false,
    "pycharm": {
     "name": "#%%\n",
     "is_executing": false
    }
   }
  },
  {
   "cell_type": "markdown",
   "source": [
    "See what we can get from this alias!"
   ],
   "metadata": {
    "collapsed": false,
    "pycharm": {
     "name": "#%% md\n"
    }
   }
  },
  {
   "cell_type": "code",
   "execution_count": 17,
   "outputs": [
    {
     "data": {
      "text/plain": "{'mondata-mic-1587009600000': {'aliases': {'myOrgAlias': {}}},\n 'mondata-mic-1586145600000': {'aliases': {'myOrgAlias': {}}},\n 'mondata-mic-1587787200000': {'aliases': {'myOrgAlias': {'is_write_index': True}}}}"
     },
     "metadata": {},
     "output_type": "execute_result",
     "execution_count": 17
    }
   ],
   "source": [
    "ES.indices.get_alias(name=org_alias)"
   ],
   "metadata": {
    "collapsed": false,
    "pycharm": {
     "name": "#%%\n",
     "is_executing": false
    }
   }
  },
  {
   "cell_type": "markdown",
   "source": [
    "Now we can try indexing document in our organisation using our alias and without having to specify the latest index\n",
    "\n",
    "The document is automatically indexed to the index having 'is_write_index == True'.\n",
    "\n",
    "Only one index per alias can have this field set to True\n",
    "https://www.elastic.co/guide/en/elasticsearch/reference/current/indices-aliases.html\n"
   ],
   "metadata": {
    "collapsed": false
   }
  },
  {
   "cell_type": "code",
   "execution_count": 18,
   "outputs": [
    {
     "name": "stdout",
     "text": [
      "state timestamp :  1588444932708\n"
     ],
     "output_type": "stream"
    }
   ],
   "source": [
    "timestamp = int(date3 + random.random()*(date3 - date2))\n",
    "print('state timestamp : ', timestamp)\n",
    "new_state = State(timestamp=timestamp)\n",
    "ES.index(index=org_alias, body=new_state.json())\n",
    "\n",
    "data = ES.search(index=index_name3, body={\"query\": {\"match_all\": {}}, \"size\": 10000})\n",
    "f = open(\"query_all_result.txt\", \"w\")\n",
    "f.write(json.dumps(data, sort_keys=True, indent=4, separators=[',', ':']))\n",
    "f.close()\n",
    "\n"
   ],
   "metadata": {
    "collapsed": false,
    "pycharm": {
     "name": "#%%\n",
     "is_executing": false
    }
   }
  },
  {
   "cell_type": "markdown",
   "source": [
    "## Using aliases to point the last index in which an endpoint has posted\n",
    "We can use alias to directly point the index instead of querying over different index \n"
   ],
   "metadata": {
    "collapsed": false
   }
  }
 ],
 "metadata": {
  "kernelspec": {
   "display_name": "Python 3",
   "language": "python",
   "name": "python3"
  },
  "language_info": {
   "codemirror_mode": {
    "name": "ipython",
    "version": 2
   },
   "file_extension": ".py",
   "mimetype": "text/x-python",
   "name": "python",
   "nbconvert_exporter": "python",
   "pygments_lexer": "ipython2",
   "version": "2.7.6"
  },
  "pycharm": {
   "stem_cell": {
    "cell_type": "raw",
    "source": [],
    "metadata": {
     "collapsed": false
    }
   }
  }
 },
 "nbformat": 4,
 "nbformat_minor": 0
}